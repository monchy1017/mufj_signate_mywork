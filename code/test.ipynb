{
 "cells": [
  {
   "cell_type": "code",
   "execution_count": 1,
   "metadata": {},
   "outputs": [
    {
     "name": "stdout",
     "output_type": "stream",
     "text": [
      "This app is great! 👍 I use it every day and love it. 👍\n",
      "{'neg': 0.0, 'neu': 0.512, 'pos': 0.488, 'compound': 0.8622}\n",
      "Terrible experience. The app crashes all the time.\n",
      "{'neg': 0.307, 'neu': 0.693, 'pos': 0.0, 'compound': -0.4767}\n",
      "Good functionality but needs improvement in UI. 👍\n",
      "{'neg': 0.0, 'neu': 0.457, 'pos': 0.543, 'compound': 0.714}\n",
      "Not bad, but could be better.\n",
      "{'neg': 0.0, 'neu': 0.409, 'pos': 0.591, 'compound': 0.698}\n",
      "Worst app ever. Do not download!\n",
      "{'neg': 0.468, 'neu': 0.532, 'pos': 0.0, 'compound': -0.6588}\n"
     ]
    },
    {
     "name": "stderr",
     "output_type": "stream",
     "text": [
      "[nltk_data] Downloading package vader_lexicon to\n",
      "[nltk_data]     /Users/iwasakimao/nltk_data...\n",
      "[nltk_data]   Package vader_lexicon is already up-to-date!\n"
     ]
    }
   ],
   "source": [
    "import nltk\n",
    "from nltk.sentiment.vader import SentimentIntensityAnalyzer\n",
    "\n",
    "# VADERの初期化\n",
    "nltk.download(\"vader_lexicon\")\n",
    "sid = SentimentIntensityAnalyzer()\n",
    "\n",
    "# サンプルテキスト\n",
    "texts = [\n",
    "    \"This app is great! 👍 I use it every day and love it. 👍\",\n",
    "    \"Terrible experience. The app crashes all the time.\",\n",
    "    \"Good functionality but needs improvement in UI. 👍\",\n",
    "    \"Not bad, but could be better.\",\n",
    "    \"Worst app ever. Do not download!\",\n",
    "]\n",
    "\n",
    "# 感情分析\n",
    "for text in texts:\n",
    "    print(text)\n",
    "    scores = sid.polarity_scores(text)\n",
    "    print(scores)"
   ]
  },
  {
   "cell_type": "code",
   "execution_count": 2,
   "metadata": {},
   "outputs": [
    {
     "ename": "ModuleNotFoundError",
     "evalue": "No module named 'textblob'",
     "output_type": "error",
     "traceback": [
      "\u001b[0;31m---------------------------------------------------------------------------\u001b[0m",
      "\u001b[0;31mModuleNotFoundError\u001b[0m                       Traceback (most recent call last)",
      "Cell \u001b[0;32mIn[2], line 1\u001b[0m\n\u001b[0;32m----> 1\u001b[0m \u001b[38;5;28;01mfrom\u001b[39;00m \u001b[38;5;21;01mtextblob\u001b[39;00m \u001b[38;5;28;01mimport\u001b[39;00m TextBlob\n\u001b[1;32m      3\u001b[0m \u001b[38;5;66;03m# サンプルテキスト\u001b[39;00m\n\u001b[1;32m      4\u001b[0m texts \u001b[38;5;241m=\u001b[39m [\n\u001b[1;32m      5\u001b[0m     \u001b[38;5;124m\"\u001b[39m\u001b[38;5;124mThis app is great! 👍 I use it every day and love it. 👍\u001b[39m\u001b[38;5;124m\"\u001b[39m,\n\u001b[1;32m      6\u001b[0m     \u001b[38;5;124m\"\u001b[39m\u001b[38;5;124mTerrible experience. The app crashes all the time.\u001b[39m\u001b[38;5;124m\"\u001b[39m,\n\u001b[0;32m   (...)\u001b[0m\n\u001b[1;32m      9\u001b[0m     \u001b[38;5;124m\"\u001b[39m\u001b[38;5;124mWorst app ever. Do not download!\u001b[39m\u001b[38;5;124m\"\u001b[39m,\n\u001b[1;32m     10\u001b[0m ]\n",
      "\u001b[0;31mModuleNotFoundError\u001b[0m: No module named 'textblob'"
     ]
    }
   ],
   "source": [
    "from textblob import TextBlob\n",
    "\n",
    "# サンプルテキスト\n",
    "texts = [\n",
    "    \"This app is great! 👍 I use it every day and love it. 👍\",\n",
    "    \"Terrible experience. The app crashes all the time.\",\n",
    "    \"Good functionality but needs improvement in UI. 👍\",\n",
    "    \"Not bad, but could be better.\",\n",
    "    \"Worst app ever. Do not download!\",\n",
    "]\n",
    "\n",
    "# 感情分析\n",
    "for text in texts:\n",
    "    blob = TextBlob(text)\n",
    "    print(text)\n",
    "    print(f\"Polarity: {blob.sentiment.polarity}, Subjectivity: {blob.sentiment.subjectivity}\")"
   ]
  },
  {
   "cell_type": "code",
   "execution_count": 3,
   "metadata": {},
   "outputs": [
    {
     "name": "stderr",
     "output_type": "stream",
     "text": [
      "/Users/iwasakimao/workspace/mufj_signate_mywork/.venv/lib/python3.11/site-packages/tqdm/auto.py:21: TqdmWarning: IProgress not found. Please update jupyter and ipywidgets. See https://ipywidgets.readthedocs.io/en/stable/user_install.html\n",
      "  from .autonotebook import tqdm as notebook_tqdm\n",
      "No model was supplied, defaulted to distilbert/distilbert-base-uncased-finetuned-sst-2-english and revision af0f99b (https://huggingface.co/distilbert/distilbert-base-uncased-finetuned-sst-2-english).\n",
      "Using a pipeline without specifying a model name and revision in production is not recommended.\n",
      "/Users/iwasakimao/workspace/mufj_signate_mywork/.venv/lib/python3.11/site-packages/transformers/tokenization_utils_base.py:1601: FutureWarning: `clean_up_tokenization_spaces` was not set. It will be set to `True` by default. This behavior will be depracted in transformers v4.45, and will be then set to `False` by default. For more details check this issue: https://github.com/huggingface/transformers/issues/31884\n",
      "  warnings.warn(\n"
     ]
    },
    {
     "ename": "",
     "evalue": "",
     "output_type": "error",
     "traceback": [
      "\u001b[1;31m現在のセルまたは前のセルでコードを実行中に、カーネル (Kernel) がクラッシュしました。\n",
      "\u001b[1;31mエラーの原因を特定するには、セル内のコードを確認してください。\n",
      "\u001b[1;31m詳細については<a href='https://aka.ms/vscodeJupyterKernelCrash'>こちら</a>をクリックします。\n",
      "\u001b[1;31m詳細については、Jupyter <a href='command:jupyter.viewOutput'>ログ</a> を参照してください。"
     ]
    }
   ],
   "source": [
    "from transformers import pipeline\n",
    "import torch\n",
    "\n",
    "# GPUが利用可能かどうかを確認\n",
    "device = 0 if torch.cuda.is_available() else -1\n",
    "\n",
    "# 感情分析パイプラインの初期化（GPUを使用する場合）\n",
    "classifier = pipeline(\"sentiment-analysis\", device=device)\n",
    "\n",
    "# サンプルテキスト\n",
    "texts = [\n",
    "    \"This app is great! 👍 I use it every day and love it. 👍\",\n",
    "    \"Terrible experience. The app crashes all the time.\",\n",
    "    \"Good functionality but needs improvement in UI. 👍\",\n",
    "    \"Not bad, but could be better.\",\n",
    "    \"Worst app ever. Do not download!\",\n",
    "]\n",
    "\n",
    "# 感情分析\n",
    "for text in texts:\n",
    "    result = classifier(text)\n",
    "    print(text)\n",
    "    print(result)"
   ]
  },
  {
   "cell_type": "code",
   "execution_count": 1,
   "metadata": {},
   "outputs": [
    {
     "name": "stdout",
     "output_type": "stream",
     "text": [
      "2.4.0\n",
      "False\n"
     ]
    }
   ],
   "source": [
    "import torch\n",
    "\n",
    "print(torch.__version__)\n",
    "print(torch.cuda.is_available())  # GPUが利用可能かどうかも確認"
   ]
  },
  {
   "cell_type": "code",
   "execution_count": null,
   "metadata": {},
   "outputs": [
    {
     "name": "stdout",
     "output_type": "stream",
     "text": [
      "2.17.0\n",
      "False\n"
     ]
    }
   ],
   "source": [
    "import tensorflow as tf\n",
    "\n",
    "print(tf.__version__)\n",
    "print(tf.test.is_built_with_cuda())  # GPUが利用可能かどうかも確認"
   ]
  },
  {
   "cell_type": "code",
   "execution_count": null,
   "metadata": {},
   "outputs": [],
   "source": []
  }
 ],
 "metadata": {
  "kernelspec": {
   "display_name": ".venv",
   "language": "python",
   "name": "python3"
  },
  "language_info": {
   "codemirror_mode": {
    "name": "ipython",
    "version": 3
   },
   "file_extension": ".py",
   "mimetype": "text/x-python",
   "name": "python",
   "nbconvert_exporter": "python",
   "pygments_lexer": "ipython3",
   "version": "3.11.9"
  }
 },
 "nbformat": 4,
 "nbformat_minor": 2
}
