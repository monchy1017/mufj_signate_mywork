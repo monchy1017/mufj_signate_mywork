{
 "cells": [
  {
   "cell_type": "code",
   "execution_count": 2,
   "metadata": {},
   "outputs": [
    {
     "name": "stderr",
     "output_type": "stream",
     "text": [
      "/Users/iwasakimao/workspace/mufj_signate_mywork/.venv/lib/python3.12/site-packages/tqdm/auto.py:21: TqdmWarning: IProgress not found. Please update jupyter and ipywidgets. See https://ipywidgets.readthedocs.io/en/stable/user_install.html\n",
      "  from .autonotebook import tqdm as notebook_tqdm\n"
     ]
    }
   ],
   "source": [
    "from tqdm.auto import tqdm\n",
    "import numpy as np\n",
    "import pandas as pd\n",
    "import torch\n",
    "from torch.utils.data.dataloader import DataLoader\n",
    "from torch.utils.data.dataset import Dataset\n",
    "from transformers import AutoModel, AutoTokenizer\n",
    "from sklearn.model_selection import StratifiedKFold\n",
    "from sklearn.preprocessing import OrdinalEncoder\n",
    "from sklearn.metrics import roc_auc_score\n",
    "import lightgbm as lgb"
   ]
  },
  {
   "cell_type": "code",
   "execution_count": 3,
   "metadata": {},
   "outputs": [],
   "source": [
    "train_df = pd.read_csv(\"../input/train.csv\")\n",
    "test_df = pd.read_csv(\"../input/test.csv\")"
   ]
  },
  {
   "cell_type": "code",
   "execution_count": 4,
   "metadata": {},
   "outputs": [],
   "source": [
    "MODEL_ID = \"intfloat/multilingual-e5-large\"\n",
    "device = torch.device(\"cuda:0\" if torch.cuda.is_available() else \"cpu\")\n",
    "tokenizer = AutoTokenizer.from_pretrained(MODEL_ID)\n",
    "model = AutoModel.from_pretrained(MODEL_ID).to(device)"
   ]
  },
  {
   "cell_type": "code",
   "execution_count": 5,
   "metadata": {},
   "outputs": [
    {
     "data": {
      "text/html": [
       "<div>\n",
       "<style scoped>\n",
       "    .dataframe tbody tr th:only-of-type {\n",
       "        vertical-align: middle;\n",
       "    }\n",
       "\n",
       "    .dataframe tbody tr th {\n",
       "        vertical-align: top;\n",
       "    }\n",
       "\n",
       "    .dataframe thead th {\n",
       "        text-align: right;\n",
       "    }\n",
       "</style>\n",
       "<table border=\"1\" class=\"dataframe\">\n",
       "  <thead>\n",
       "    <tr style=\"text-align: right;\">\n",
       "      <th></th>\n",
       "      <th>Unnamed: 0</th>\n",
       "      <th>review</th>\n",
       "      <th>score</th>\n",
       "      <th>thumbsUpCount</th>\n",
       "      <th>reviewCreatedVersion</th>\n",
       "      <th>replyContent</th>\n",
       "      <th>timeToReply</th>\n",
       "    </tr>\n",
       "  </thead>\n",
       "  <tbody>\n",
       "    <tr>\n",
       "      <th>0</th>\n",
       "      <td>0</td>\n",
       "      <td>Banyak bug nya!!!! Dikit² eror terus</td>\n",
       "      <td>0</td>\n",
       "      <td>0</td>\n",
       "      <td>33.0</td>\n",
       "      <td>Hello BANK Friend, sorry for the issues you’re...</td>\n",
       "      <td>0 days 05:06:00</td>\n",
       "    </tr>\n",
       "    <tr>\n",
       "      <th>1</th>\n",
       "      <td>1</td>\n",
       "      <td>Cash deposit menu does not appear Even after u...</td>\n",
       "      <td>2</td>\n",
       "      <td>0</td>\n",
       "      <td>32.0</td>\n",
       "      <td>Hello, Friend BANK. Kindly upgrade the BANKApp...</td>\n",
       "      <td>0 days 14:25:00</td>\n",
       "    </tr>\n",
       "    <tr>\n",
       "      <th>2</th>\n",
       "      <td>2</td>\n",
       "      <td>Sangat membantu</td>\n",
       "      <td>4</td>\n",
       "      <td>0</td>\n",
       "      <td>33.0</td>\n",
       "      <td>Hello BANK Customer, we appreciate you using t...</td>\n",
       "      <td>0 days 00:41:00</td>\n",
       "    </tr>\n",
       "    <tr>\n",
       "      <th>3</th>\n",
       "      <td>3</td>\n",
       "      <td>Very cool</td>\n",
       "      <td>4</td>\n",
       "      <td>0</td>\n",
       "      <td>33.0</td>\n",
       "      <td>Hello BANK Friend, we appreciate your review. ...</td>\n",
       "      <td>0 days 00:30:00</td>\n",
       "    </tr>\n",
       "    <tr>\n",
       "      <th>4</th>\n",
       "      <td>4</td>\n",
       "      <td>Improved</td>\n",
       "      <td>4</td>\n",
       "      <td>0</td>\n",
       "      <td>33.0</td>\n",
       "      <td>Hello BANK Friend, we appreciate your feedback...</td>\n",
       "      <td>0 days 15:05:00</td>\n",
       "    </tr>\n",
       "  </tbody>\n",
       "</table>\n",
       "</div>"
      ],
      "text/plain": [
       "   Unnamed: 0                                             review  score  \\\n",
       "0           0               Banyak bug nya!!!! Dikit² eror terus      0   \n",
       "1           1  Cash deposit menu does not appear Even after u...      2   \n",
       "2           2                                    Sangat membantu      4   \n",
       "3           3                                          Very cool      4   \n",
       "4           4                                           Improved      4   \n",
       "\n",
       "   thumbsUpCount  reviewCreatedVersion  \\\n",
       "0              0                  33.0   \n",
       "1              0                  32.0   \n",
       "2              0                  33.0   \n",
       "3              0                  33.0   \n",
       "4              0                  33.0   \n",
       "\n",
       "                                        replyContent      timeToReply  \n",
       "0  Hello BANK Friend, sorry for the issues you’re...  0 days 05:06:00  \n",
       "1  Hello, Friend BANK. Kindly upgrade the BANKApp...  0 days 14:25:00  \n",
       "2  Hello BANK Customer, we appreciate you using t...  0 days 00:41:00  \n",
       "3  Hello BANK Friend, we appreciate your review. ...  0 days 00:30:00  \n",
       "4  Hello BANK Friend, we appreciate your feedback...  0 days 15:05:00  "
      ]
     },
     "execution_count": 5,
     "metadata": {},
     "output_type": "execute_result"
    }
   ],
   "source": [
    "train_df.head()"
   ]
  },
  {
   "cell_type": "code",
   "execution_count": 6,
   "metadata": {},
   "outputs": [
    {
     "data": {
      "text/plain": [
       "{'score'}"
      ]
     },
     "execution_count": 6,
     "metadata": {},
     "output_type": "execute_result"
    }
   ],
   "source": [
    "#train_df とtest_dfの差分を確認\n",
    "set(train_df.columns) - set(test_df.columns)"
   ]
  },
  {
   "cell_type": "code",
   "execution_count": 7,
   "metadata": {},
   "outputs": [
    {
     "data": {
      "text/plain": [
       "np.int64(636)"
      ]
     },
     "execution_count": 7,
     "metadata": {},
     "output_type": "execute_result"
    }
   ],
   "source": [
    "# \"review\"のマックス文字長を確認\n",
    "train_df[\"review\"].str.len().max()"
   ]
  },
  {
   "cell_type": "code",
   "execution_count": 10,
   "metadata": {},
   "outputs": [],
   "source": [
    "class EmbDataset(Dataset):\n",
    "    def __init__(self, texts, max_length=650):\n",
    "        self.texts = texts\n",
    "        self.tokenizer = AutoTokenizer.from_pretrained(MODEL_ID)\n",
    "        self.max_length = max_length\n",
    "\n",
    "    def __len__(self):\n",
    "        return len(self.texts)\n",
    "\n",
    "    def __getitem__(self, ix):\n",
    "        token = self.tokenizer(\n",
    "            self.texts[ix], max_length=self.max_length, padding=\"max_length\", truncation=True, return_token_type_ids=True\n",
    "        )\n",
    "        return {\n",
    "            \"input_ids\": torch.LongTensor(token[\"input_ids\"]),\n",
    "            \"attention_mask\": torch.LongTensor(token[\"attention_mask\"]),\n",
    "            \"token_type_ids\": torch.LongTensor(token[\"token_type_ids\"]),\n",
    "        }"
   ]
  },
  {
   "cell_type": "code",
   "execution_count": 8,
   "metadata": {},
   "outputs": [
    {
     "ename": "NameError",
     "evalue": "name 'EmbDataset' is not defined",
     "output_type": "error",
     "traceback": [
      "\u001b[0;31m---------------------------------------------------------------------------\u001b[0m",
      "\u001b[0;31mNameError\u001b[0m                                 Traceback (most recent call last)",
      "Cell \u001b[0;32mIn[8], line 7\u001b[0m\n\u001b[1;32m      4\u001b[0m emb_list_reply \u001b[38;5;241m=\u001b[39m []\n\u001b[1;32m      6\u001b[0m \u001b[38;5;66;03m# \"review\"のエンベディング用データセット\u001b[39;00m\n\u001b[0;32m----> 7\u001b[0m dataset_review \u001b[38;5;241m=\u001b[39m \u001b[43mEmbDataset\u001b[49m(df[\u001b[38;5;124m\"\u001b[39m\u001b[38;5;124mreview\u001b[39m\u001b[38;5;124m\"\u001b[39m]\u001b[38;5;241m.\u001b[39mvalues, max_length\u001b[38;5;241m=\u001b[39m\u001b[38;5;241m650\u001b[39m)\n\u001b[1;32m      8\u001b[0m \u001b[38;5;66;03m# \"replyContent\"のエンベディング用データセット\u001b[39;00m\n\u001b[1;32m      9\u001b[0m dataset_reply \u001b[38;5;241m=\u001b[39m EmbDataset(df[\u001b[38;5;124m\"\u001b[39m\u001b[38;5;124mreplyContent\u001b[39m\u001b[38;5;124m\"\u001b[39m]\u001b[38;5;241m.\u001b[39mvalues, max_length\u001b[38;5;241m=\u001b[39m\u001b[38;5;241m650\u001b[39m)\n",
      "\u001b[0;31mNameError\u001b[0m: name 'EmbDataset' is not defined"
     ]
    }
   ],
   "source": [
    "embeddings = {}\n",
    "for key, df in zip([\"train\", \"test\"], [train_df, test_df]):\n",
    "    emb_list_review = []\n",
    "    emb_list_reply = []\n",
    "\n",
    "    # \"review\"のエンベディング用データセット\n",
    "    dataset_review = EmbDataset(df[\"review\"].values, max_length=650)\n",
    "    # \"replyContent\"のエンベディング用データセット\n",
    "    dataset_reply = EmbDataset(df[\"replyContent\"].values, max_length=650)\n",
    "\n",
    "    # DataLoaderをそれぞれのデータセットに対して作成\n",
    "    data_loader_review = DataLoader(\n",
    "        dataset_review,\n",
    "        batch_size=256,\n",
    "        num_workers=0,\n",
    "        shuffle=False,\n",
    "    )\n",
    "    data_loader_reply = DataLoader(\n",
    "        dataset_reply,\n",
    "        batch_size=256,\n",
    "        num_workers=0,\n",
    "        shuffle=False,\n",
    "    )\n",
    "\n",
    "    # review のエンベディング計算\n",
    "    bar_review = tqdm(enumerate(data_loader_review), total=len(data_loader_review))\n",
    "    for iter_i, batch in bar_review:\n",
    "        # input\n",
    "        input_ids = batch[\"input_ids\"].to(device)\n",
    "        attention_mask = batch[\"attention_mask\"].to(device)\n",
    "        token_type_ids = batch[\"token_type_ids\"].to(device)\n",
    "\n",
    "        with torch.no_grad():\n",
    "            last_hidden_state, pooler_output, hidden_state = model(\n",
    "                input_ids=input_ids,\n",
    "                attention_mask=attention_mask,\n",
    "                token_type_ids=token_type_ids,\n",
    "                output_hidden_states=True,\n",
    "                return_dict=False,\n",
    "            )\n",
    "            batch_embs = last_hidden_state.mean(dim=1)\n",
    "\n",
    "        emb_list_review.append(batch_embs.detach().cpu().numpy())\n",
    "\n",
    "    # replyContent のエンベディング計算\n",
    "    bar_reply = tqdm(enumerate(data_loader_reply), total=len(data_loader_reply))\n",
    "    for iter_i, batch in bar_reply:\n",
    "        # input\n",
    "        input_ids = batch[\"input_ids\"].to(device)\n",
    "        attention_mask = batch[\"attention_mask\"].to(device)\n",
    "        token_type_ids = batch[\"token_type_ids\"].to(device)\n",
    "\n",
    "        with torch.no_grad():\n",
    "            last_hidden_state, pooler_output, hidden_state = model(\n",
    "                input_ids=input_ids,\n",
    "                attention_mask=attention_mask,\n",
    "                token_type_ids=token_type_ids,\n",
    "                output_hidden_states=True,\n",
    "                return_dict=False,\n",
    "            )\n",
    "            batch_embs = last_hidden_state.mean(dim=1)\n",
    "\n",
    "        emb_list_reply.append(batch_embs.detach().cpu().numpy())\n",
    "\n",
    "    # 埋め込みを一つの辞書に格納\n",
    "    embeddings[key] = {\"review\": np.concatenate(emb_list_review), \"replyContent\": np.concatenate(emb_list_reply)}"
   ]
  },
  {
   "cell_type": "code",
   "execution_count": 9,
   "metadata": {},
   "outputs": [
    {
     "ename": "KeyError",
     "evalue": "'train'",
     "output_type": "error",
     "traceback": [
      "\u001b[0;31m---------------------------------------------------------------------------\u001b[0m",
      "\u001b[0;31mKeyError\u001b[0m                                  Traceback (most recent call last)",
      "Cell \u001b[0;32mIn[9], line 9\u001b[0m\n\u001b[1;32m      5\u001b[0m     \u001b[38;5;28;01mreturn\u001b[39;00m emb_df\n\u001b[1;32m      8\u001b[0m \u001b[38;5;66;03m# 埋め込みデータをデータフレームに変換\u001b[39;00m\n\u001b[0;32m----> 9\u001b[0m train_review_embeddings_df \u001b[38;5;241m=\u001b[39m embeddings_to_dataframe(\u001b[43membeddings\u001b[49m\u001b[43m[\u001b[49m\u001b[38;5;124;43m\"\u001b[39;49m\u001b[38;5;124;43mtrain\u001b[39;49m\u001b[38;5;124;43m\"\u001b[39;49m\u001b[43m]\u001b[49m[\u001b[38;5;124m\"\u001b[39m\u001b[38;5;124mreview\u001b[39m\u001b[38;5;124m\"\u001b[39m], \u001b[38;5;124m\"\u001b[39m\u001b[38;5;124mreview\u001b[39m\u001b[38;5;124m\"\u001b[39m)\n\u001b[1;32m     10\u001b[0m train_reply_embeddings_df \u001b[38;5;241m=\u001b[39m embeddings_to_dataframe(embeddings[\u001b[38;5;124m\"\u001b[39m\u001b[38;5;124mtrain\u001b[39m\u001b[38;5;124m\"\u001b[39m][\u001b[38;5;124m\"\u001b[39m\u001b[38;5;124mreplyContent\u001b[39m\u001b[38;5;124m\"\u001b[39m], \u001b[38;5;124m\"\u001b[39m\u001b[38;5;124mreplyContent\u001b[39m\u001b[38;5;124m\"\u001b[39m)\n\u001b[1;32m     11\u001b[0m test_review_embeddings_df \u001b[38;5;241m=\u001b[39m embeddings_to_dataframe(embeddings[\u001b[38;5;124m\"\u001b[39m\u001b[38;5;124mtest\u001b[39m\u001b[38;5;124m\"\u001b[39m][\u001b[38;5;124m\"\u001b[39m\u001b[38;5;124mreview\u001b[39m\u001b[38;5;124m\"\u001b[39m], \u001b[38;5;124m\"\u001b[39m\u001b[38;5;124mreview\u001b[39m\u001b[38;5;124m\"\u001b[39m)\n",
      "\u001b[0;31mKeyError\u001b[0m: 'train'"
     ]
    }
   ],
   "source": [
    "def embeddings_to_dataframe(embeddings, column_name_prefix):\n",
    "    emb_df = pd.DataFrame(embeddings)\n",
    "    # カラム名に接頭辞をつけて区別する\n",
    "    emb_df.columns = [f\"{column_name_prefix}_emb_{i}\" for i in range(emb_df.shape[1])]\n",
    "    return emb_df\n",
    "\n",
    "\n",
    "# 埋め込みデータをデータフレームに変換\n",
    "train_review_embeddings_df = embeddings_to_dataframe(embeddings[\"train\"][\"review\"], \"review\")\n",
    "train_reply_embeddings_df = embeddings_to_dataframe(embeddings[\"train\"][\"replyContent\"], \"replyContent\")\n",
    "test_review_embeddings_df = embeddings_to_dataframe(embeddings[\"test\"][\"review\"], \"review\")\n",
    "test_reply_embeddings_df = embeddings_to_dataframe(embeddings[\"test\"][\"replyContent\"], \"replyContent\")\n",
    "\n",
    "# 埋め込みデータフレームを元のデータフレームにマージ\n",
    "train_df = pd.concat([train_df, train_review_embeddings_df, train_reply_embeddings_df], axis=1)\n",
    "test_df = pd.concat([test_df, test_review_embeddings_df, test_reply_embeddings_df], axis=1)"
   ]
  },
  {
   "cell_type": "code",
   "execution_count": null,
   "metadata": {},
   "outputs": [],
   "source": []
  }
 ],
 "metadata": {
  "kernelspec": {
   "display_name": ".venv",
   "language": "python",
   "name": "python3"
  },
  "language_info": {
   "codemirror_mode": {
    "name": "ipython",
    "version": 3
   },
   "file_extension": ".py",
   "mimetype": "text/x-python",
   "name": "python",
   "nbconvert_exporter": "python",
   "pygments_lexer": "ipython3",
   "version": "3.12.4"
  }
 },
 "nbformat": 4,
 "nbformat_minor": 2
}
